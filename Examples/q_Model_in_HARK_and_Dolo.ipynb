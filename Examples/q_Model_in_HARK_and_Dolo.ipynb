{
 "cells": [
  {
   "cell_type": "markdown",
   "metadata": {},
   "source": [
    "# The q-Model in HARK and Dolo\n",
    "\n",
    "This notebook illustrates and compares two implementations of the q-Model of investment:\n",
    "- The class QMod, which will be the basis of HARK's implementation of the model.\n",
    "- A Dolo model, represented in a yaml file.\n",
    "\n",
    "Both implementations follow Christopher D. Carroll's graduate\n",
    "Macroeconomics [lecture notes](http://www.econ2.jhu.edu/people/ccarroll/public/lecturenotes/Investment/qModel/)."
   ]
  },
  {
   "cell_type": "code",
   "execution_count": 1,
   "metadata": {
    "code_folding": [],
    "lines_to_next_cell": 0
   },
   "outputs": [],
   "source": [
    "# Preamble\n",
    "import numpy as np\n",
    "import matplotlib.pyplot as plt"
   ]
  },
  {
   "cell_type": "markdown",
   "metadata": {},
   "source": [
    "## 1. Basic features of the Qmod class\n",
    "\n",
    "We first illustrate how to create and use the main features of the Qmod class."
   ]
  },
  {
   "cell_type": "markdown",
   "metadata": {},
   "source": [
    "### Importing the class and creating a model\n",
    "\n",
    "Since the class is hosted in a different file, we import it. After that, we create an instance of the model with the default parameter values."
   ]
  },
  {
   "cell_type": "code",
   "execution_count": 2,
   "metadata": {},
   "outputs": [],
   "source": [
    "# Since the Qmod class is in other folder we need to\n",
    "# change the path.\n",
    "import sys\n",
    "sys.path.append('../')\n",
    "\n",
    "# Import the class definition from Qmod/Q_Investment.py\n",
    "from Qmod.Q_investment import Qmod\n",
    "\n",
    "# Create model object\n",
    "Qexample = Qmod()"
   ]
  },
  {
   "cell_type": "markdown",
   "metadata": {},
   "source": [
    "### Model solution and policy rule.\n",
    "\n",
    "Now that we have created the model, we can solve it. To solve the model is to find its policy rule: a function specifying what is the optimal value for capital at $t+1$ given capital at $t$ (implicitly defining optimal investment). Solving the model also finds is steady state value of capital.\n",
    "\n",
    "We now illustrate these two features."
   ]
  },
  {
   "cell_type": "code",
   "execution_count": null,
   "metadata": {
    "lines_to_next_cell": 0
   },
   "outputs": [],
   "source": [
    "# Solve the model\n",
    "Qexample.solve()\n",
    "\n",
    "# Print its steady state\n",
    "print('The steady state value of capital is %f' % (Qexample.kss))\n",
    "\n",
    "# Plot policy rule\n",
    "k = np.linspace(1,3*Qexample.kss,20)\n",
    "\n",
    "plt.figure()\n",
    "plt.plot(k,[Qexample.k1Func(x) for x in k], label = \"Optimal capital\")\n",
    "plt.plot(k,k, linestyle = '--', color = 'k', label = \"45° line\")\n",
    "plt.plot(Qexample.kss,Qexample.kss,'*r', label = \"Steady state\")\n",
    "plt.title('Policy Rule')\n",
    "plt.xlabel('$k(t)$')\n",
    "plt.ylabel('$k(t+1)$')\n",
    "plt.legend()\n",
    "plt.show()"
   ]
  },
  {
   "cell_type": "markdown",
   "metadata": {},
   "source": [
    "### Simulation of capital dynamics.\n",
    "\n",
    "The class can also compute the dynamic adjustment of capital from a given starting level.\n",
    "\n",
    "We can use this to see how adjustment costs affect the speed of adjustment."
   ]
  },
  {
   "cell_type": "code",
   "execution_count": null,
   "metadata": {
    "lines_to_next_cell": 0
   },
   "outputs": [],
   "source": [
    "# Create and solve two instances, one with high and one with low adjustment costs omega\n",
    "Qlow  = Qmod(omega =  0.1)\n",
    "Qhigh = Qmod(omega =  0.9)\n",
    "\n",
    "Qlow.solve()\n",
    "Qhigh.solve()\n",
    "\n",
    "# Simulate adjustment from an initial capital level\n",
    "k0 = 2*Qhigh.kss\n",
    "t = 50\n",
    "k_low = Qlow.simulate(k0,t)\n",
    "k_high = Qhigh.simulate(k0,t)\n",
    "\n",
    "# Plot\n",
    "plt.figure()\n",
    "plt.plot(k_low, label = 'Low $\\\\omega$')\n",
    "plt.plot(k_high, label = 'High $\\\\omega$')\n",
    "plt.axhline(y = Qhigh.kss,linestyle = '--',color = 'k', label = 'Steady state ${k}$')\n",
    "plt.title('Capital')\n",
    "plt.xlabel('$t$')\n",
    "plt.ylabel('$k(t)$')\n",
    "plt.legend()\n",
    "plt.show()"
   ]
  },
  {
   "cell_type": "markdown",
   "metadata": {},
   "source": [
    "### Phase diagram.\n",
    "\n",
    "The class can plot a model's phase diagram. The model has to be solved if the stable arm is to be displayed."
   ]
  },
  {
   "cell_type": "code",
   "execution_count": null,
   "metadata": {},
   "outputs": [],
   "source": [
    "# Create and solve model object\n",
    "Qexample = Qmod()\n",
    "Qexample.solve()\n",
    "# Generate its phase diagram\n",
    "Qexample.phase_diagram(stableArm = True)"
   ]
  },
  {
   "cell_type": "markdown",
   "metadata": {},
   "source": [
    "## Structural Changes Using Qmod and Dolo\n",
    "\n",
    "The tools in this repository can also be used to analyze the models optimal dynamic response to structural changes.\n",
    "\n",
    "To illustrate this capabilities, I simulate the changes discussed in Christopher D. Carroll's graduate\n",
    "Macroeconomics [lecture notes](http://www.econ2.jhu.edu/people/ccarroll/public/lecturenotes/Investment/qModel/):\n",
    "productivity, corporate tax rate, and investment tax credit changes.\n",
    "\n",
    "For each change I display the behavior of the model under two different assumptions:\n",
    "* The change takes place at $t=0$ without notice.\n",
    "* The change is announced at $t=0$ but takes place at $t=5$."
   ]
  },
  {
   "cell_type": "code",
   "execution_count": null,
   "metadata": {
    "code_folding": []
   },
   "outputs": [],
   "source": [
    "# Preamble\n",
    "import numpy as np\n",
    "import matplotlib.pyplot as plt\n",
    "\n",
    "from copy import deepcopy\n",
    "\n",
    "from dolo import *\n",
    "import dolo.algos.perfect_foresight as pf\n",
    "import dolo.algos.value_iteration as vi\n",
    "\n",
    "import pandas as pd\n",
    "\n",
    "# Since the Qmod class is in other folder we need to\n",
    "# change the path.\n",
    "import sys\n",
    "sys.path.append('../')\n",
    "from Qmod.Q_investment import Qmod"
   ]
  },
  {
   "cell_type": "markdown",
   "metadata": {
    "lines_to_next_cell": 0
   },
   "source": [
    "I first import a function that computes and presents optimal dynamics in face of\n",
    "structural changes in the Qmod implementation."
   ]
  },
  {
   "cell_type": "code",
   "execution_count": null,
   "metadata": {
    "code_folding": [
     0
    ]
   },
   "outputs": [],
   "source": [
    "from Qmod.Q_investment import structural_change"
   ]
  },
  {
   "cell_type": "markdown",
   "metadata": {},
   "source": [
    "I now define a function to handle parameter changes in the Dolo implementation"
   ]
  },
  {
   "cell_type": "code",
   "execution_count": null,
   "metadata": {
    "code_folding": [
     0
    ]
   },
   "outputs": [],
   "source": [
    "def simul_change_dolo(model, k0,  exog0, exog1, t_change, T_sim):\n",
    "\n",
    "    # The first step is to create time series for the exogenous variables\n",
    "    exog = np.array([exog1,]*(T_sim - t_change))\n",
    "    if t_change > 0:\n",
    "        exog = np.concatenate((np.array([exog0,]*(t_change)),\n",
    "                               exog),\n",
    "                              axis = 0)\n",
    "    exog = pd.DataFrame(exog, columns = ['R','tau','itc_1','psi'])\n",
    "\n",
    "    # Simpulate the optimal response\n",
    "    dr = pf.deterministic_solve(model = model,shocks = exog, T=T_sim,\n",
    "                                verbose=True, s1 = k0)\n",
    "\n",
    "    # Dolo uses the first period to report the steady state\n",
    "    # so we ommit it.\n",
    "    return(dr[1:])"
   ]
  },
  {
   "cell_type": "markdown",
   "metadata": {},
   "source": [
    "Now I create a base model parametrization using both the Qmod class and the Dolo implementation."
   ]
  },
  {
   "cell_type": "code",
   "execution_count": null,
   "metadata": {},
   "outputs": [],
   "source": [
    "# Base parameters\n",
    "\n",
    "# Discount factor and return factor\n",
    "beta = 0.98\n",
    "R = 1/beta\n",
    "\n",
    "# Tax rate\n",
    "tau = 0.05\n",
    "\n",
    "# Share of capital in production\n",
    "alpha = 0.33\n",
    "\n",
    "# Adjustment costs\n",
    "omega = 1\n",
    "\n",
    "# Investment tax credit\n",
    "zeta = 0\n",
    "\n",
    "# Depreciation rate\n",
    "delta = 0.1\n",
    "\n",
    "# Technological factor\n",
    "psi = 1\n",
    "\n",
    "\n",
    "## Qmod python class\n",
    "\n",
    "Qmodel = Qmod(beta, tau, alpha, omega, zeta, delta, psi)\n",
    "Qmodel.solve()\n",
    "\n",
    "## Dolo\n",
    "\n",
    "QDolo = yaml_import(\"../Dolo/Q_model.yaml\")\n",
    "# We do not pass psi, tau, or zeta since they are handled not as parameters\n",
    "# but exogenous variables.\n",
    "QDolo.set_calibration(R = R, alpha = alpha, delta = delta, omega = omega)"
   ]
  },
  {
   "cell_type": "markdown",
   "metadata": {
    "lines_to_next_cell": 0
   },
   "source": [
    "## Examples:\n",
    "\n",
    "## 1. An unanticipated increase in productivity"
   ]
  },
  {
   "cell_type": "code",
   "execution_count": null,
   "metadata": {
    "code_folding": [
     0
    ],
    "lines_to_next_cell": 0
   },
   "outputs": [],
   "source": [
    "# Total simulation time\n",
    "T = 20\n",
    "# Time the change occurs\n",
    "t = 0\n",
    "# Initial level of capital\n",
    "k0 = Qmodel.kss\n",
    "\n",
    "# Productivity in the \"new\" state\n",
    "psi_new = 1.3\n",
    "\n",
    "## Qmod class\n",
    "\n",
    "# Copy the initial model, set the higher psi and re-solve\n",
    "Q_high_psi = deepcopy(Qmodel)\n",
    "Q_high_psi.psi = psi_new\n",
    "Q_high_psi.solve()\n",
    "\n",
    "sol = structural_change(mod1 = Qmodel, mod2 = Q_high_psi,\n",
    "                        k0 = k0, t_change = t,T_sim=T)\n",
    "\n",
    "## Dolo\n",
    "\n",
    "soldolo = simul_change_dolo(model = QDolo, k0 = np.array([k0]),\n",
    "                            exog0 = [R,tau,zeta,psi],\n",
    "                            exog1 = [R,tau,zeta,psi_new],\n",
    "                            t_change = t, T_sim = T)\n",
    "\n",
    "# Plot the path of capital under both solutions\n",
    "time = range(T)\n",
    "plt.figure()\n",
    "plt.plot(time, sol['k'], 'x', label = 'Qmod', alpha = 0.8)\n",
    "plt.plot(time, soldolo['k'], '+', label = 'Dolo', alpha = 0.8)\n",
    "plt.legend()\n",
    "plt.title('Capital dynamics')\n",
    "plt.ylabel('$k_t$ : capital')\n",
    "plt.xlabel('$t$ : time')"
   ]
  },
  {
   "cell_type": "markdown",
   "metadata": {
    "lines_to_next_cell": 0
   },
   "source": [
    "## 2. An increase in productivity announced at t=0 but taking effect at t=5"
   ]
  },
  {
   "cell_type": "code",
   "execution_count": null,
   "metadata": {
    "code_folding": [],
    "lines_to_next_cell": 0
   },
   "outputs": [],
   "source": [
    "# Repeat the calculation now assuming the change happens at t=5\n",
    "t = 5\n",
    "\n",
    "# Qmod class\n",
    "sol = structural_change(mod1 = Qmodel, mod2 = Q_high_psi,\n",
    "                        k0 = k0, t_change = t,T_sim=T)\n",
    "\n",
    "# Dolo\n",
    "soldolo = simul_change_dolo(model = QDolo, k0 = np.array([k0]),\n",
    "                            exog0 = [R,tau,zeta,psi],\n",
    "                            exog1 = [R,tau,zeta,psi_new],\n",
    "                            t_change = t, T_sim = T)\n",
    "\n",
    "# Plot the path of capital under both solutions\n",
    "time = range(T)\n",
    "plt.figure()\n",
    "plt.plot(time, sol['k'], 'x', label = 'Qmod', alpha = 0.8)\n",
    "plt.plot(time, soldolo['k'], '+', label = 'Dolo', alpha = 0.8)\n",
    "plt.legend()\n",
    "plt.title('Capital dynamics')\n",
    "plt.ylabel('$k_t$ : capital')\n",
    "plt.xlabel('$t$ : time')"
   ]
  },
  {
   "cell_type": "markdown",
   "metadata": {
    "lines_to_next_cell": 0
   },
   "source": [
    "## 3. An unanticipated corporate tax-cut"
   ]
  },
  {
   "cell_type": "code",
   "execution_count": null,
   "metadata": {
    "code_folding": [
     0
    ],
    "lines_to_next_cell": 0
   },
   "outputs": [],
   "source": [
    "# Set the taxes of the 'high-tax' scenario\n",
    "tau_high = 0.4\n",
    "# Set time of the change\n",
    "t = 0\n",
    "\n",
    "# Qmod class\n",
    "\n",
    "# Copy the initial model, set a higher psi and re-solve\n",
    "Q_high_tau = deepcopy(Qmodel)\n",
    "Q_high_tau.tau = tau_high\n",
    "Q_high_tau.solve()\n",
    "\n",
    "# Capital will start at it steady state in the\n",
    "# high-tax scenario\n",
    "k0 = Q_high_tau.kss\n",
    "\n",
    "sol = structural_change(mod1 = Q_high_tau, mod2 = Qmodel,\n",
    "                        k0 = k0, t_change = t,T_sim=T)\n",
    "\n",
    "# Dolo\n",
    "soldolo = simul_change_dolo(model = QDolo, k0 = np.array([k0]),\n",
    "                            exog0 = [R,tau_high,zeta,psi],\n",
    "                            exog1 = [R,tau,zeta,psi],\n",
    "                            t_change = t, T_sim = T)\n",
    "\n",
    "# Plot the path of capital under both solutions\n",
    "time = range(T)\n",
    "plt.figure()\n",
    "plt.plot(time, sol['k'], 'x', label = 'Qmod', alpha = 0.8)\n",
    "plt.plot(time, soldolo['k'], '+', label = 'Dolo', alpha = 0.8)\n",
    "plt.legend()\n",
    "plt.title('Capital dynamics')\n",
    "plt.ylabel('$k_t$ : capital')\n",
    "plt.xlabel('$t$ : time')"
   ]
  },
  {
   "cell_type": "markdown",
   "metadata": {
    "lines_to_next_cell": 0
   },
   "source": [
    "## 4. A corporate tax cut announced at t=0 but taking effect at t=5"
   ]
  },
  {
   "cell_type": "code",
   "execution_count": null,
   "metadata": {
    "code_folding": [
     0
    ],
    "lines_to_next_cell": 0
   },
   "outputs": [],
   "source": [
    "# Modify the time of the change\n",
    "t = 5\n",
    "\n",
    "# Qmod class\n",
    "sol = structural_change(mod1 = Q_high_tau, mod2 = Qmodel,\n",
    "                        k0 = k0, t_change = t,T_sim=T)\n",
    "\n",
    "# Dolo\n",
    "soldolo = simul_change_dolo(model = QDolo, k0 = np.array([k0]),\n",
    "                            exog0 = [R,tau_high,zeta,psi],\n",
    "                            exog1 = [R,tau,zeta,psi],\n",
    "                            t_change = t, T_sim = T)\n",
    "\n",
    "# Plot the path of capital under both solutions\n",
    "time = range(T)\n",
    "plt.figure()\n",
    "plt.plot(time, sol['k'], 'x', label = 'Qmod', alpha = 0.8)\n",
    "plt.plot(time, soldolo['k'], '+', label = 'Dolo', alpha = 0.8)\n",
    "plt.legend()\n",
    "plt.title('Capital dynamics')\n",
    "plt.ylabel('$k_t$ : capital')\n",
    "plt.xlabel('$t$ : time')"
   ]
  },
  {
   "cell_type": "markdown",
   "metadata": {
    "lines_to_next_cell": 0
   },
   "source": [
    "## 5. An unanticipated ITC increase"
   ]
  },
  {
   "cell_type": "code",
   "execution_count": null,
   "metadata": {
    "code_folding": [
     0
    ],
    "lines_to_next_cell": 0
   },
   "outputs": [],
   "source": [
    "# Set time of the change\n",
    "t=0\n",
    "# Set investment tax credit in the high case\n",
    "itc_high = 0.2\n",
    "# Set initial value of capital\n",
    "k0 = Qmodel.kss\n",
    "\n",
    "# Qmod class\n",
    "\n",
    "# Copy the initial model, set a higher psi and re-solve\n",
    "Q_high_itc = deepcopy(Qmodel)\n",
    "Q_high_itc.zeta = itc_high\n",
    "Q_high_itc.solve()\n",
    "\n",
    "sol = structural_change(mod1 = Qmodel, mod2 = Q_high_itc,\n",
    "                        k0 = k0, t_change = t,T_sim=T)\n",
    "\n",
    "# Dolo\n",
    "soldolo = simul_change_dolo(model = QDolo, k0 = np.array([k0]),\n",
    "                            exog0 = [R,tau,zeta,psi],\n",
    "                            exog1 = [R,tau,itc_high,psi],\n",
    "                            t_change = t, T_sim = T)\n",
    "\n",
    "# Plot the path of capital under both solutions\n",
    "time = range(T)\n",
    "plt.figure()\n",
    "plt.plot(time, sol['k'], 'x', label = 'Qmod', alpha = 0.8)\n",
    "plt.plot(time, soldolo['k'], '+', label = 'Dolo', alpha = 0.8)\n",
    "plt.legend()\n",
    "plt.title('Capital dynamics')\n",
    "plt.ylabel('$k_t$ : capital')\n",
    "plt.xlabel('$t$ : time')"
   ]
  },
  {
   "cell_type": "markdown",
   "metadata": {
    "lines_to_next_cell": 0
   },
   "source": [
    "## 6. An ITC increase announced at t=0 but taking effect at t=5"
   ]
  },
  {
   "cell_type": "code",
   "execution_count": null,
   "metadata": {
    "code_folding": [
     0
    ]
   },
   "outputs": [],
   "source": [
    "# Modify time of the change\n",
    "t = 5\n",
    "\n",
    "# Qmod class\n",
    "sol = structural_change(mod1 = Qmodel, mod2 = Q_high_itc,\n",
    "                        k0 = k0, t_change = t,T_sim=T)\n",
    "\n",
    "# Dolo\n",
    "soldolo = simul_change_dolo(model = QDolo, k0 = np.array([k0]),\n",
    "                            exog0 = [R,tau,zeta,psi],\n",
    "                            exog1 = [R,tau,itc_high,psi],\n",
    "                            t_change = t+1, T_sim = T)\n",
    "\n",
    "# Plot the path of capital under both solutions\n",
    "time = range(T)\n",
    "plt.figure()\n",
    "plt.plot(time, sol['k'], 'x', label = 'Qmod', alpha = 0.8)\n",
    "plt.plot(time, soldolo['k'], '+', label = 'Dolo', alpha = 0.8)\n",
    "plt.legend()\n",
    "plt.title('Capital dynamics')\n",
    "plt.ylabel('$k_t$ : capital')\n",
    "plt.xlabel('$t$ : time')"
   ]
  },
  {
   "cell_type": "code",
   "execution_count": null,
   "metadata": {},
   "outputs": [],
   "source": [
    "# Setup\n",
    "import matplotlib as plt\n",
    "import numpy as np\n",
    "from dolo import *\n",
    "import dolo.algos.perfect_foresight as pf\n",
    "import dolo.algos.value_iteration as vi\n",
    "import pandas as pd\n",
    "\n",
    "# Define a function to handle plots\n",
    "def plotQmodel(model, exog, returnDF = False):\n",
    "    \n",
    "    # Simpulate the optimal response\n",
    "    dr = pf.deterministic_solve(model = model,shocks = exog,verbose=True)\n",
    "    \n",
    "    # Plot exogenous variables\n",
    "    \n",
    "    ex = ['R','tau','itc_1','psi']\n",
    "    fig, axes = plt.pyplot.subplots(1,len(ex), figsize = (10,3))\n",
    "    axes = axes.flatten()\n",
    "    \n",
    "    for i in range(len(ex)):\n",
    "        ax = axes[i]\n",
    "        ax.plot(dr[ex[i]],'.')\n",
    "        ax.set_xlabel('Time')\n",
    "        ax.set_ylabel(ex[i])\n",
    "    fig.tight_layout(rect=[0, 0.03, 1, 0.95])\n",
    "    \n",
    "    fig.suptitle('Exogenous variables', fontsize=16)\n",
    "    \n",
    "    # Plot optimal response variables\n",
    "    fig, axes = plt.pyplot.subplots(2,2, figsize = (10,6))\n",
    "    axes = axes.flatten()\n",
    "    opt = ['k','i','lambda_1','q_1']\n",
    "    \n",
    "    for i in range(len(opt)):\n",
    "        ax = axes[i]\n",
    "        ax.plot(dr[opt[i]],'.')\n",
    "        ax.set_xlabel('Time')\n",
    "        ax.set_ylabel(opt[i])\n",
    "    fig.tight_layout(rect=[0, 0.03, 1, 0.95])\n",
    "    \n",
    "    fig.suptitle('Endogenous response', fontsize=16)\n",
    "    \n",
    "    if returnDF:\n",
    "        return(dr)"
   ]
  },
  {
   "cell_type": "code",
   "execution_count": null,
   "metadata": {},
   "outputs": [],
   "source": [
    "# Load and calibrate the model model\n",
    "model = yaml_import(\"../Dolo/Q_model.yaml\")\n",
    "\n",
    "alpha = 0.33\n",
    "delta = 0.05\n",
    "omega = 2\n",
    "\n",
    "model.set_calibration(alpha = alpha, delta = delta, omega = omega)"
   ]
  },
  {
   "cell_type": "code",
   "execution_count": null,
   "metadata": {},
   "outputs": [],
   "source": [
    "# Interest rate simulation\n",
    "\n",
    "# Create empty dataframe for exog. variables\n",
    "exog = pd.DataFrame(columns = ['R','tau','itc_1','psi'])\n",
    "\n",
    "# Generate an interest rate process\n",
    "exog.R = np.concatenate((np.repeat(1.03,20),\n",
    "                    np.repeat(1.05,10),\n",
    "                    np.repeat(1.01,10)))\n",
    "\n",
    "# Leave tau at 0\n",
    "exog.tau = 0\n",
    "# Leave itc at 0\n",
    "exog.itc_1 = 0\n",
    "# Leave psi at 1\n",
    "exog.psi = 1\n",
    "\n",
    "# Solve for the optimal response and plot the results  \n",
    "plotQmodel(model,exog)"
   ]
  },
  {
   "cell_type": "code",
   "execution_count": null,
   "metadata": {},
   "outputs": [],
   "source": [
    "# Tax rate simulation\n",
    "\n",
    "# Create empty dataframe for exog. variables\n",
    "exog = pd.DataFrame(columns = ['R','tau','itc_1','psi'])\n",
    "\n",
    "# Generate a future tax cut dynamic\n",
    "exog.tau = np.concatenate((np.repeat(0.2,20),\n",
    "                           np.repeat(0,20)))\n",
    "\n",
    "# Leave R at 1.02\n",
    "exog.R = 1.02\n",
    "# Leave itc at 0\n",
    "exog.itc_1 = 0\n",
    "# Leave psi at 0\n",
    "exog.psi = 1\n",
    "\n",
    "# Solve for the optimal response and plot the results  \n",
    "plotQmodel(model,exog)"
   ]
  },
  {
   "cell_type": "code",
   "execution_count": null,
   "metadata": {},
   "outputs": [],
   "source": [
    "# ITC simulation\n",
    "\n",
    "# Create empty dataframe for exog. variables\n",
    "exog = pd.DataFrame(columns = ['R','tau','itc_1','psi'])\n",
    "\n",
    "# Generate a future itc increase dynamic\n",
    "exog.itc_1 = np.concatenate((np.repeat(0,20),\n",
    "                           np.repeat(0.25,20)))\n",
    "\n",
    "# Leave R at 1.02\n",
    "exog.R = 1.02\n",
    "# Leave tau at 0\n",
    "exog.tau = 0\n",
    "# Leave psi at 1\n",
    "exog.psi = 1\n",
    "\n",
    "# Solve for the optimal response and plot the results  \n",
    "plotQmodel(model,exog)"
   ]
  }
 ],
 "metadata": {
  "jupytext": {
   "formats": "ipynb,py:percent"
  },
  "kernelspec": {
   "display_name": "Python 3",
   "language": "python",
   "name": "python3"
  },
  "language_info": {
   "codemirror_mode": {
    "name": "ipython",
    "version": 3
   },
   "file_extension": ".py",
   "mimetype": "text/x-python",
   "name": "python",
   "nbconvert_exporter": "python",
   "pygments_lexer": "ipython3",
   "version": "3.7.3"
  },
  "latex_envs": {
   "LaTeX_envs_menu_present": true,
   "autoclose": false,
   "autocomplete": true,
   "bibliofile": "biblio.bib",
   "cite_by": "apalike",
   "current_citInitial": 1,
   "eqLabelWithNumbers": true,
   "eqNumInitial": 1,
   "hotkeys": {
    "equation": "Ctrl-E",
    "itemize": "Ctrl-I"
   },
   "labels_anchors": false,
   "latex_user_defs": false,
   "report_style_numbering": false,
   "user_envs_cfg": false
  }
 },
 "nbformat": 4,
 "nbformat_minor": 2
}
